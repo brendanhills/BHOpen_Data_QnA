{
 "cells": [
  {
   "cell_type": "code",
   "execution_count": null,
   "id": "97f2441c",
   "metadata": {},
   "outputs": [],
   "source": [
    "%load_ext autoreload\n",
    "%autoreload 2\n",
    "%aimport"
   ]
  },
  {
   "cell_type": "code",
   "execution_count": null,
   "id": "43e0ff3c-b568-4845-b93d-88543c4e1998",
   "metadata": {
    "tags": []
   },
   "outputs": [],
   "source": [
    "import os\n",
    "import sys\n",
    "\n",
    "module_path = os.path.abspath(os.path.join('..'))\n",
    "sys.path.append(module_path)\n",
    "\n",
    "\n",
    "import logging\n",
    "format_string = '%(asctime)s - %(name)s - %(levelname)s - %(message)s'\n",
    "logger = logging.getLogger()\n",
    "fhandler = logging.FileHandler(filename='mylog.log', mode='a')\n",
    "formatter = logging.Formatter(format_string)\n",
    "fhandler.setFormatter(formatter)\n",
    "#logger.addHandler(fhandler)\n",
    "logging.basicConfig(format=format_string,\n",
    "                     level=logging.INFO, stream=sys.stdout)\n",
    "logger.setLevel(logging.DEBUG)"
   ]
  },
  {
   "cell_type": "code",
   "execution_count": null,
   "id": "73ef5e57-1f30-4439-be3c-cb1ac2fc5310",
   "metadata": {
    "tags": []
   },
   "outputs": [],
   "source": [
    "PROJECT_ID = \"uk-bh-experiments-argolis\"\n",
    "\n",
    "\n",
    "#[CONFIG]\n",
    "embedding_model = 'vertex' # Options: 'vertex' or 'vertex-lang'\n",
    "vector_embedding_model = \"text-embedding-004\"\n",
    "description_model = 'gemini-1.5-flash-001' # 'gemini-1.5-pro-001', 'gemini-1.5-pro', 'text-bison-32k'\n",
    "data_source = 'bigquery' #  Options: 'bigquery' and 'cloudsql-pg' \n",
    "vector_store = 'bigquery-vector' # Options: 'bigquery-vector', 'cloudsql-pgvector'\n",
    "logging = True # True or False \n",
    "kgq_examples = True # True or False  \n",
    "embedding_chunk_size = \"10\" \n",
    "description_length = \"4\"\n",
    "\n",
    "#[GCP]\n",
    "project_id = PROJECT_ID\n",
    "\n",
    "#[PGCLOUDSQL]\n",
    "# If you want to use PG as source, fill out the values below\n",
    "pg_region = ''\n",
    "pg_instance = ''\n",
    "pg_database = ''\n",
    "pg_user = ''\n",
    "pg_password = ''\n",
    "pg_schema = ''\n",
    "\n",
    "#[BIGQUERY]\n",
    "# If you want to use BQ as source, fill out the values below\n",
    "bq_dataset_region = 'us-east1'\n",
    "bq_dataset_name = 'breedr'\n",
    "\n",
    "# Name for the BQ dataset created for bigquery-vector and/or logging\n",
    "bq_opendataqna_dataset_name = 'opendataqna'\n",
    "bq_log_table_name = 'audit_log_table' \n",
    "bq_table_list = None #['animals', 'activities', 'activity_types'] #None # either None or a list of table names in format ['reviews', 'ratings']\n",
    "#bq_table_list = ['alert_type'] #, 'activities', 'activity_types'] #None # either None or a list of table names in format ['reviews', 'ratings']\n",
    "\n",
    "\n",
    "#Decode Region and Userdatabase based on source\n",
    "dataset_region = bq_dataset_region\n",
    "user_database=bq_dataset_name "
   ]
  },
  {
   "cell_type": "code",
   "execution_count": null,
   "id": "a2faa8ca-ef20-483d-8def-289af74d14db",
   "metadata": {
    "tags": []
   },
   "outputs": [],
   "source": [
    "\n",
    "# Input verification - Source\n",
    "assert data_source in {'bigquery', 'cloudsql-pg'}, \"⚠️ Invalid DATA_SOURCE. Must be 'bigquery' or 'cloudsql-pg'\"\n",
    "\n",
    "# Input verification - Vector Store\n",
    "assert vector_store in {'bigquery-vector', 'cloudsql-pgvector'}, \"⚠️ Invalid VECTOR_STORE. Must be 'bigquery-vector' or 'cloudsql-pgvector'\"\n",
    "\n",
    "if logging: \n",
    "    assert bq_log_table_name, \"⚠️ Please provide a name for your log table if you want to use logging\"\n",
    "\n",
    "if data_source == 'bigquery':\n",
    "    assert bq_dataset_region, \"⚠️ Please provide the Data Set Region\"\n",
    "    assert bq_dataset_name, \"⚠️ Please provide the name of the dataset on Bigquery\"\n",
    "\n",
    "elif data_source == 'cloudsql-pg':\n",
    "    assert pg_region, \"⚠️ Please provide Region of the Cloud SQL Instance\"\n",
    "    assert pg_instance, \"⚠️ Please provide the name of the Cloud SQL Instance\"\n",
    "    assert pg_database, \"⚠️ Please provide the name of the PostgreSQL Database on the Cloud SQL Instance\"\n",
    "    assert pg_user, \"⚠️ Please provide a username for the Cloud SQL Instance\"\n",
    "    assert pg_password, \"⚠️ Please provide the Password for the PG_USER\""
   ]
  },
  {
   "cell_type": "code",
   "execution_count": null,
   "id": "1b05d3ab-bec8-43a1-815a-c39d04b51fc2",
   "metadata": {
    "tags": []
   },
   "outputs": [],
   "source": [
    "from scripts import save_config\n",
    "\n",
    "save_config(embedding_model=embedding_model, \n",
    "            vector_embedding_model=vector_embedding_model, \n",
    "            description_model=description_model, \n",
    "            data_source=data_source, \n",
    "            vector_store=vector_store, \n",
    "            logging=logging, \n",
    "            kgq_examples=kgq_examples,  \n",
    "            project_id=project_id,\n",
    "            pg_region=pg_region, pg_instance=pg_instance, pg_database=pg_database, pg_user=pg_user, pg_password=pg_password, pg_schema=pg_schema, \n",
    "            bq_dataset_region=bq_dataset_region, bq_dataset_name=bq_dataset_name,  bq_table_list=bq_table_list,\n",
    "            bq_opendataqna_dataset_name=bq_opendataqna_dataset_name, bq_log_table_name=bq_log_table_name,\n",
    "            embedding_chunk_size=embedding_chunk_size,\n",
    "            description_length=description_length\n",
    "            )"
   ]
  },
  {
   "cell_type": "code",
   "execution_count": null,
   "id": "bdf4c938-4590-4be6-b948-263e7a87e6ff",
   "metadata": {
    "tags": []
   },
   "outputs": [],
   "source": [
    "from env_setup import create_vector_store\n",
    "# Setup vector store for embeddings\n",
    "create_vector_store()  \n"
   ]
  },
  {
   "cell_type": "code",
   "execution_count": null,
   "id": "c80465a3-e1af-4231-bb4f-73ea71f2d485",
   "metadata": {
    "tags": []
   },
   "outputs": [],
   "source": [
    "from env_setup import get_embeddings\n",
    "\n",
    "# Generate embeddings for tables and columns\n",
    "table_schema_embeddings, col_schema_embeddings = get_embeddings()  \n"
   ]
  },
  {
   "cell_type": "code",
   "execution_count": null,
   "id": "8d8a8bd3-8f09-4bb2-bb18-c1131d141fa0",
   "metadata": {
    "tags": []
   },
   "outputs": [],
   "source": [
    "print(\"Table Descriptions\")\n",
    "table_schema_embeddings.head()"
   ]
  },
  {
   "cell_type": "code",
   "execution_count": null,
   "id": "6a88f888-ff33-4bdd-8683-56280bb55f00",
   "metadata": {},
   "outputs": [],
   "source": [
    "print(\"Column Descriptions\")\n",
    "col_schema_embeddings.head()"
   ]
  },
  {
   "cell_type": "code",
   "execution_count": null,
   "id": "310e7dc1-184a-4e18-bca0-74c73de74f96",
   "metadata": {
    "tags": []
   },
   "outputs": [],
   "source": [
    "from env_setup import store_embeddings\n",
    "\n",
    "# Store table/column embeddings (asynchronous)\n",
    "await(store_embeddings(table_schema_embeddings, col_schema_embeddings)) "
   ]
  },
  {
   "cell_type": "code",
   "execution_count": null,
   "id": "863a2e39",
   "metadata": {},
   "outputs": [],
   "source": []
  }
 ],
 "metadata": {
  "environment": {
   "kernel": "opendataqna",
   "name": "workbench-notebooks.m124",
   "type": "gcloud",
   "uri": "us-docker.pkg.dev/deeplearning-platform-release/gcr.io/workbench-notebooks:m124"
  },
  "kernelspec": {
   "display_name": "opendataqna",
   "language": "python",
   "name": "opendataqna"
  },
  "language_info": {
   "codemirror_mode": {
    "name": "ipython",
    "version": 3
   },
   "file_extension": ".py",
   "mimetype": "text/x-python",
   "name": "python",
   "nbconvert_exporter": "python",
   "pygments_lexer": "ipython3",
   "version": "3.10.14"
  }
 },
 "nbformat": 4,
 "nbformat_minor": 5
}
