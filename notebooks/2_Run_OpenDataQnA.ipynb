{
 "cells": [
  {
   "cell_type": "markdown",
   "metadata": {},
   "source": [
    "<div style=\"display: flex; align-items: left;\">\n",
    "    <a href=\"https://sites.google.com/corp/google.com/genai-solutions/home?authuser=0\">\n",
    "        <img src=\"https://storage.googleapis.com/miscfilespublic/Linkedin%20Banner%20%E2%80%93%202.png\" style=\"margin-right\">\n",
    "    </a>\n",
    "</div>"
   ]
  },
  {
   "cell_type": "code",
   "execution_count": 23,
   "metadata": {
    "id": "copyright"
   },
   "outputs": [
    {
     "name": "stdout",
     "output_type": "stream",
     "text": [
      "2024-06-26 11:29:58,385 - agents.core - INFO - LLM Model is gemini-1.0-pro \n"
     ]
    }
   ],
   "source": [
    "# Copyright 2024 Google LLC\n",
    "#\n",
    "# Licensed under the Apache License, Version 2.0 (the \"License\");\n",
    "# you may not use this file except in compliance with the License.\n",
    "# You may obtain a copy of the License at\n",
    "#\n",
    "#     https://www.apache.org/licenses/LICENSE-2.0\n",
    "#\n",
    "# Unless required by applicable law or agreed to in writing, software\n",
    "# distributed under the License is distributed on an \"AS IS\" BASIS,\n",
    "# WITHOUT WARRANTIES OR CONDITIONS OF ANY KIND, either express or implied.\n",
    "# See the License for the specific language governing permissions and\n",
    "# limitations under the License."
   ]
  },
  {
   "cell_type": "markdown",
   "metadata": {
    "id": "DRyGcAepAPJ5"
   },
   "source": [
    "\n",
    "<h1 align=\"center\">Open Data QnA - Chat with your SQL Database</h1> \n",
    "\n",
    "\n",
    "The pipeline run covers the following steps: \n",
    "\n",
    "> 1. Take user question and generate sql in the dialect corresponding to data source\n",
    "\n",
    "> 2. Execute the sql query and retreive the data\n",
    "\n",
    "> 3. Generate natural language respose and charts to display\n",
    "\n",
    "> 4. Clean Up resources\n",
    "\n"
   ]
  },
  {
   "cell_type": "markdown",
   "metadata": {
    "id": "jsWGZW_fUJjN"
   },
   "source": [
    "### 📒 Using this interactive notebook\n",
    "\n",
    "If you have not used this IDE with jupyter notebooks it will ask for installing Python + Jupyter extensions. Please go ahead install them\n",
    "\n",
    "Click the **run** icons ▶️  of each cell within this notebook.\n",
    "\n",
    "> 💡 Alternatively, you can run the currently selected cell with `Ctrl + Enter` (or `⌘ + Enter` on a Mac).\n",
    "\n",
    "> ⚠️ **To avoid any errors**, wait for each section to finish in their order before clicking the next “run” icon.\n",
    "\n",
    "This sample must be connected to a **Google Cloud project**, but nothing else is needed other than your Google Cloud project.\n",
    "\n",
    "You can use an existing project. Alternatively, you can create a new Cloud project [with cloud credits for free.](https://cloud.google.com/free/docs/gcp-free-tier)"
   ]
  },
  {
   "cell_type": "markdown",
   "metadata": {
    "id": "RicDCkdI-hmp"
   },
   "source": [
    "# 🚧 **0. Pre-requisites**\n",
    "\n",
    "Make sure that you have completed the intial setup process using [1_Setup_OpenDataQnA.ipynb](1_Setup_OpenDataQnA.ipynb). If the 1_Setup_OpenDataQnA notebook has been run successfully, the following are set up:\n",
    "* GCP project and all the required IAM permissions\n",
    "\n",
    "* Environment to run the solution\n",
    "\n",
    "* Data source and Vector store for the solution\n"
   ]
  },
  {
   "cell_type": "markdown",
   "metadata": {},
   "source": [
    "## ⚙️ **1. Retreive Configuration Parameters**\n",
    "The notebook will load all the configuration parameters from the `config.ini` file in the root directory. \n",
    "Most of these parameters were set in the initial notebook `1_Setup_OpenDataQnA.ipynb` and save to the 'config.ini file.\n",
    "Use the below cells to retrieve these values and specify additional ones required for this notebook. "
   ]
  },
  {
   "cell_type": "code",
   "execution_count": 24,
   "metadata": {
    "tags": []
   },
   "outputs": [],
   "source": [
    "import os\n",
    "import sys\n",
    "module_path = os.path.abspath(os.path.join('..'))\n",
    "sys.path.append(module_path)"
   ]
  },
  {
   "cell_type": "code",
   "execution_count": 25,
   "metadata": {
    "tags": []
   },
   "outputs": [
    {
     "name": "stdout",
     "output_type": "stream",
     "text": [
      "The autoreload extension is already loaded. To reload it, use:\n",
      "  %reload_ext autoreload\n",
      "Modules to reload:\n",
      "all-except-skipped\n",
      "\n",
      "Modules to skip:\n",
      "\n"
     ]
    }
   ],
   "source": [
    "%load_ext autoreload\n",
    "%autoreload 2\n",
    "%aimport\n",
    "\n",
    "import logging\n",
    "format_string = '%(asctime)s - %(name)s - %(levelname)s - %(message)s'\n",
    "logger = logging.getLogger()\n",
    "fhandler = logging.FileHandler(filename='mylog.log', mode='a')\n",
    "formatter = logging.Formatter(format_string)\n",
    "fhandler.setFormatter(formatter)\n",
    "#logger.addHandler(fhandler)\n",
    "logging.basicConfig(format=format_string,\n",
    "                     level=logging.INFO, stream=sys.stdout)\n",
    "logger.setLevel(logging.INFO)"
   ]
  },
  {
   "cell_type": "markdown",
   "metadata": {},
   "source": [
    "Read your `PROJECT_ID` from the config.ini file, or set it manually below: "
   ]
  },
  {
   "cell_type": "code",
   "execution_count": 26,
   "metadata": {
    "tags": []
   },
   "outputs": [],
   "source": [
    "from utilities import PROJECT_ID\n",
    "\n",
    "#PROJECT_ID = ''"
   ]
  },
  {
   "cell_type": "markdown",
   "metadata": {},
   "source": [
    "## 🔐 **2. Authenticate and Connect to Google Cloud Project**\n",
    "Authenticate to Google Cloud as the IAM user logged into this notebook in order to access your Google Cloud Project.\n",
    "\n",
    "You can do this within Google Colab or using the Application Default Credentials in the Google Cloud CLI."
   ]
  },
  {
   "cell_type": "code",
   "execution_count": 27,
   "metadata": {
    "tags": []
   },
   "outputs": [
    {
     "name": "stdout",
     "output_type": "stream",
     "text": [
      "Updated property [core/project].\n",
      "Project has been set to uk-bh-experiments-argolis\n"
     ]
    }
   ],
   "source": [
    "\"\"\"Colab Auth\"\"\" \n",
    "# from google.colab import auth\n",
    "# auth.authenticate_user()\n",
    "\n",
    "\n",
    "\"\"\"Google CLI Auth\"\"\"\n",
    "# !gcloud auth application-default login\n",
    "\n",
    "\n",
    "import google.auth\n",
    "credentials, project_id = google.auth.default()\n",
    "\n",
    "# Configure gcloud.\n",
    "!gcloud config set project {PROJECT_ID}\n",
    "print(f'Project has been set to {PROJECT_ID}')\n",
    "# !gcloud auth application-default set-quota-project {PROJECT_ID}\n",
    "\n",
    "import os\n",
    "os.environ['GOOGLE_CLOUD_QUOTA_PROJECT']=PROJECT_ID\n",
    "os.environ['GOOGLE_CLOUD_PROJECT']=PROJECT_ID"
   ]
  },
  {
   "cell_type": "markdown",
   "metadata": {},
   "source": [
    "## ▶️ **3. Run the Open Data QnA Pipeline**"
   ]
  },
  {
   "cell_type": "markdown",
   "metadata": {},
   "source": [
    "###  ❓ **Ask your Natural Language Question**"
   ]
  },
  {
   "cell_type": "code",
   "execution_count": 28,
   "metadata": {
    "tags": []
   },
   "outputs": [
    {
     "name": "stdout",
     "output_type": "stream",
     "text": [
      "User Question:- list all the medicines that were given\n"
     ]
    }
   ],
   "source": [
    "# Suggested question for 'fda_food' dataset: \"What are the top 5 cities with highest recalls?\"\n",
    "# Suggested question for 'google_dei' dataset: \"How many asian men were part of the leadership workforce in 2021?\"\n",
    "\n",
    "# user_question = input(prompt_for_question) #Uncomment if you want to ask question yourself\n",
    "user_question = 'How many movies have a rating higher than four?' # Or Enter Question here\n",
    "user_question = \"list the animals with the top 5 weights.  What fields were they in?\"\n",
    "user_question = \"list all the medicines that were given\"\n",
    "#user_question = 'What are top 5 cities with highest recalls?'\n",
    "print(\"User Question:- \"+user_question)"
   ]
  },
  {
   "cell_type": "markdown",
   "metadata": {},
   "source": [
    "### 🏃 **Run the Pipeline**\n",
    "\n",
    "The next cell executes the pipeline for answering natural language questions over structured data.\n",
    "\n",
    "The pipeline performs the following steps:\n",
    "\n",
    "1. **Agent Loading:** Initializes various agents for embedding questions, building SQL queries, validating SQL, debugging SQL, and generating responses.\n",
    "2. **Data Source and Vector Store Configuration:** Sets the data source (BigQuery or PostgreSQL) and vector store (BigQuery or PostgreSQL) based on provided parameters.\n",
    "3. **Exact Match Search:** Attempts to find an exact match for the user's question in a knowledge graph cache (if enabled). If found, the cached SQL query is used.\n",
    "4. **Similar Match and Schema Retrieval:** If no exact match is found, retrieves similar questions and associated SQL queries from the knowledge graph (if enabled). Also retrieves relevant table and column schemas based on similarity to the question.\n",
    "5. **SQL Generation and Debugging:** Builds an initial SQL query using the retrieved information. If enabled, the debugger iteratively refines the query with potential validation and error feedback.\n",
    "6. **SQL Execution and Response Generation:** Executes the final SQL query (if enabled) against the data source and retrieves results. A response agent then generates a natural language answer based on the results.\n",
    "7. **Auditing:** Records the entire pipeline process, including generated SQL, responses, and potential errors, for later analysis.\n",
    "\n",
    "Args:\n",
    "\n",
    "* **user_question (str):** The natural language question to answer.\n",
    "\n",
    "* **user_database (str):** Based on table schema name the value for user_database would be pg_schema or bq_dataset_name that will be used to decode the source type later\n",
    "\n",
    "* **RUN_DEBUGGER (bool, optional):** Whether to run the SQL debugger. Defaults to True.\n",
    "\n",
    "* **EXECUTE_FINAL_SQL (bool, optional):** Whether to execute the final SQL query. Defaults to True.\n",
    "\n",
    "* **DEBUGGING_ROUNDS (int, optional):** The number of debugging rounds. Defaults to 2.\n",
    "\n",
    "* **LLM_VALIDATION (bool, optional):** Whether to use LLM for SQL validation during debugging. Defaults to True.\n",
    "\n",
    "* **Embedder_model (str, optional):** The name of the embedding model. Defaults to 'vertex'.\n",
    "\n",
    "* **SQLBuilder_model (str, optional):** The name of the SQL building model. Defaults to 'gemini-1.0-pro'.\n",
    "\n",
    "* **SQLChecker_model (str, optional):** The name of the SQL validation model. Defaults to 'gemini-1.0-pro'.\n",
    "\n",
    "* **SQLDebugger_model (str, optional):** The name of the SQL debugging model. Defaults to 'gemini-1.0-pro'.\n",
    "\n",
    "* **Responder_model (str, optional):** The name of the response generation model. Defaults to 'gemini-1.0-pro'.\n",
    "\n",
    "* **num_table_matches (int, optional):** The number of similar tables to retrieve. Defaults to 5.\n",
    "\n",
    "* **num_column_matches (int, optional):** The number of similar columns to retrieve. Defaults to 10.\n",
    "\n",
    "* **table_similarity_threshold (float, optional):** The similarity threshold for tables. Defaults to 0.3.\n",
    "\n",
    "* **column_similarity_threshold (float, optional):** The similarity threshold for columns. Defaults to 0.3.\n",
    "\n",
    "* **example_similarity_threshold (float, optional):** The similarity threshold for example questions. Defaults to 0.3.\n",
    "\n",
    "* **num_sql_matches (int, optional):** The number of similar SQL queries to retrieve. Defaults to 3.\n",
    "\n",
    "\n",
    "Returns:\n",
    "- **final_sql (str):** The final generated SQL query.\n",
    "- **response (pandas.DataFrame or str):** The result of executing the SQL query or an error message.\n",
    "- **_resp (str):** The final response generated by the response agent."
   ]
  },
  {
   "cell_type": "code",
   "execution_count": 29,
   "metadata": {
    "tags": []
   },
   "outputs": [
    {
     "name": "stdout",
     "output_type": "stream",
     "text": [
      "Loading Agents.\n",
      "2024-06-26 11:30:01,331 - agents.core - INFO - LLM Model is gemini-1.5-pro-001 \n",
      "2024-06-26 11:30:01,333 - agents.core - INFO - LLM Model is gemini-1.5-pro-001 \n",
      "Source selected as : bigquery\n",
      "Schema or Dataset Name is : breedr\n",
      "Vector Store selected as : bigquery-vector\n",
      "No exact match found for the user prompt\n",
      "Found 3 similarity matches for example.\n",
      "Found 5 similarity matches for table.\n",
      "Found 10 similarity matches for column.\n",
      "SELECT DISTINCT medicine_name FROM `uk-bh-experiments-argolis.breedr.medicine_itemtransaction` WHERE medicine_name IS NOT NULL\n",
      "\n",
      "This query will process 1173 bytes.\n",
      "exec_result_df:This query will process 1173 bytes.\n",
      "2024-06-26 11:30:13,490 - agents.core - INFO - LLM Model is gemini-1.5-pro-001 \n",
      "**************************************************\n",
      "Generated SQL\n",
      "**************************************************\n",
      "SELECT DISTINCT medicine_name FROM `uk-bh-experiments-argolis.breedr.medicine_itemtransaction` WHERE medicine_name IS NOT NULL\n",
      "\n",
      "\n",
      "**************************************************\n",
      "Results\n",
      "**************************************************\n"
     ]
    },
    {
     "data": {
      "text/html": [
       "<div>\n",
       "<style scoped>\n",
       "    .dataframe tbody tr th:only-of-type {\n",
       "        vertical-align: middle;\n",
       "    }\n",
       "\n",
       "    .dataframe tbody tr th {\n",
       "        vertical-align: top;\n",
       "    }\n",
       "\n",
       "    .dataframe thead th {\n",
       "        text-align: right;\n",
       "    }\n",
       "</style>\n",
       "<table border=\"1\" class=\"dataframe\">\n",
       "  <thead>\n",
       "    <tr style=\"text-align: right;\">\n",
       "      <th></th>\n",
       "      <th>medicine_name</th>\n",
       "    </tr>\n",
       "  </thead>\n",
       "  <tbody>\n",
       "    <tr>\n",
       "      <th>0</th>\n",
       "      <td>Rapidexon 2 mg/ml Solution for Injection</td>\n",
       "    </tr>\n",
       "    <tr>\n",
       "      <th>1</th>\n",
       "      <td>Synulox RTU</td>\n",
       "    </tr>\n",
       "    <tr>\n",
       "      <th>2</th>\n",
       "      <td>Metacam 20 mg/ml solution for injection for ca...</td>\n",
       "    </tr>\n",
       "    <tr>\n",
       "      <th>3</th>\n",
       "      <td>Orbenin Ophthalmic Ointment</td>\n",
       "    </tr>\n",
       "  </tbody>\n",
       "</table>\n",
       "</div>"
      ],
      "text/plain": [
       "                                       medicine_name\n",
       "0           Rapidexon 2 mg/ml Solution for Injection\n",
       "1                                        Synulox RTU\n",
       "2  Metacam 20 mg/ml solution for injection for ca...\n",
       "3                        Orbenin Ophthalmic Ointment"
      ]
     },
     "metadata": {},
     "output_type": "display_data"
    },
    {
     "name": "stdout",
     "output_type": "stream",
     "text": [
      "**************************************************\n",
      "Natural Response\n",
      "**************************************************\n",
      "The following medicines were given: \n",
      "\n",
      "* Rapidexon 2 mg/ml Solution for Injection\n",
      "* Synulox RTU\n",
      "* Metacam 20 mg/ml solution for injection for cattle, pigs and horses\n",
      "* Orbenin Ophthalmic Ointment \n",
      "\n"
     ]
    }
   ],
   "source": [
    "from opendataqna import run_pipeline\n",
    "\n",
    "final_sql, response, _resp = await run_pipeline(user_question,\n",
    "                                                    user_database = 'breedr',\n",
    "                                                    RUN_DEBUGGER=True,\n",
    "                                                    EXECUTE_FINAL_SQL=True,\n",
    "                                                    DEBUGGING_ROUNDS = 2, \n",
    "                                                    LLM_VALIDATION=True,\n",
    "                                                    Embedder_model='vertex', # Options: 'vertex' or 'vertex-lang'\n",
    "                                                    SQLBuilder_model= 'gemini-1.5-pro-001',\n",
    "                                                    SQLChecker_model= 'gemini-1.5-pro-001',\n",
    "                                                    SQLDebugger_model= 'gemini-1.5-pro-001',\n",
    "                                                    Responder_model= 'gemini-1.5-pro-001',\n",
    "                                                    num_table_matches = 5,\n",
    "                                                    num_column_matches = 10,\n",
    "                                                    table_similarity_threshold = 0.1,\n",
    "                                                    column_similarity_threshold = 0.1, \n",
    "                                                    example_similarity_threshold = 0.1, \n",
    "                                                    num_sql_matches=3)\n",
    "\n",
    "                                                    \n",
    "\n",
    "print(\"*\"*50 +\"\\nGenerated SQL\\n\"+\"*\"*50+\"\\n\"+final_sql)\n",
    "print(\"\\n\"+\"*\"*50 +\"\\nResults\\n\"+\"*\"*50)\n",
    "display(response)\n",
    "print(\"*\"*50 +\"\\nNatural Response\\n\"+\"*\"*50+\"\\n\"+_resp)\n",
    "\n"
   ]
  },
  {
   "cell_type": "markdown",
   "metadata": {},
   "source": [
    "### 📊 **Create Charts for the results** (Run only when you have proper results in the above cells)\n",
    "Agent provides two suggestive google charts to display on a UI with element IDs chart_div and chart_div_1"
   ]
  },
  {
   "cell_type": "code",
   "execution_count": 30,
   "metadata": {
    "tags": []
   },
   "outputs": [
    {
     "name": "stdout",
     "output_type": "stream",
     "text": [
      "Charts Suggested : ['Table', 'List Chart']\n"
     ]
    }
   ],
   "source": [
    "from opendataqna import Visualize\n",
    "\n",
    "chart_js=''\n",
    "chart_js = Visualize.generate_charts(user_question,final_sql,response) #sending \n",
    "# print(chart_js[\"chart_div_1\"])"
   ]
  },
  {
   "cell_type": "code",
   "execution_count": 31,
   "metadata": {
    "tags": []
   },
   "outputs": [
    {
     "data": {
      "text/html": [
       "\n",
       "<script type=\"text/javascript\" src=\"https://www.gstatic.com/charts/loader.js\"></script>\n",
       "<script type=\"text/javascript\">\n",
       "google.charts.load('current', {packages: ['table']});\n",
       "google.charts.setOnLoadCallback(drawTable);\n",
       "\n",
       "function drawTable() {\n",
       "  var data = new google.visualization.DataTable();\n",
       "  data.addColumn('string', 'Medicine Name');\n",
       "\n",
       "  data.addRows([\n",
       "    ['Rapidexon 2 mg/ml Solution for Injection'],\n",
       "    ['Synulox RTU'],\n",
       "    ['Metacam 20 mg/ml solution for injection for ca...'],\n",
       "    ['Orbenin Ophthalmic Ointment']\n",
       "  ]);\n",
       "\n",
       "  var options = {\n",
       "    title: 'List of Medicines',\n",
       "    width: 600,\n",
       "    height: 300,\n",
       "    hAxis: {\n",
       "      textStyle: {\n",
       "        fontSize: 12\n",
       "      }\n",
       "    },\n",
       "    vAxis: {\n",
       "      textStyle: {\n",
       "        fontSize: 12\n",
       "      }\n",
       "    },\n",
       "    legend: {\n",
       "      textStyle: {\n",
       "        fontSize: 12\n",
       "      }\n",
       "    }\n",
       "  };\n",
       "\n",
       "  var table = new google.visualization.Table(document.getElementById('chart_div'));\n",
       "\n",
       "  table.draw(data, options);\n",
       "}\n",
       "</script>\n",
       "<div id=\"chart_div\"></div>\n"
      ],
      "text/plain": [
       "<IPython.core.display.HTML object>"
      ]
     },
     "execution_count": 31,
     "metadata": {},
     "output_type": "execute_result"
    }
   ],
   "source": [
    "from IPython.display import HTML\n",
    "\n",
    "html_code = f'''\n",
    "<script type=\"text/javascript\" src=\"https://www.gstatic.com/charts/loader.js\"></script>\n",
    "<script type=\"text/javascript\">\n",
    "{chart_js[\"chart_div\"]}\n",
    "</script>\n",
    "<div id=\"chart_div\"></div>\n",
    "'''\n",
    "\n",
    "HTML(html_code)\n"
   ]
  },
  {
   "cell_type": "code",
   "execution_count": 32,
   "metadata": {
    "tags": []
   },
   "outputs": [
    {
     "data": {
      "text/html": [
       "\n",
       "<script type=\"text/javascript\" src=\"https://www.gstatic.com/charts/loader.js\"></script>\n",
       "<script type=\"text/javascript\">\n",
       "google.charts.load('current', {packages: ['corechart']});\n",
       "google.charts.setOnLoadCallback(drawChart);\n",
       "function drawChart() {\n",
       "    var data = google.visualization.arrayToDataTable([\n",
       "        ['Medicine Name', ''],\n",
       "        ['Rapidexon 2 mg/ml Solution for Injection', 1],\n",
       "        ['Synulox RTU', 1],\n",
       "        ['Metacam 20 mg/ml solution for injection for ca...', 1],\n",
       "        ['Orbenin Ophthalmic Ointment', 1]\n",
       "    ]);\n",
       "\n",
       "    var options = {\n",
       "        title: 'Medicines Given',\n",
       "        width: 600,\n",
       "        height: 300,\n",
       "        hAxis: {\n",
       "            textStyle: {\n",
       "                fontSize: 12\n",
       "            }\n",
       "        },\n",
       "        vAxis: {\n",
       "            textStyle: {\n",
       "                fontSize: 12\n",
       "            }\n",
       "        },\n",
       "        legend: {\n",
       "            textStyle: {\n",
       "                fontSize: 12\n",
       "            }\n",
       "        },\n",
       "        bar: {\n",
       "            groupWidth: '50%'\n",
       "        }\n",
       "    };\n",
       "\n",
       "    var chart = new google.visualization.BarChart(document.getElementById('chart_div_1'));\n",
       "    chart.draw(data, options);\n",
       "}\n",
       "</script>\n",
       "<div id=\"chart_div_1\"></div>\n"
      ],
      "text/plain": [
       "<IPython.core.display.HTML object>"
      ]
     },
     "execution_count": 32,
     "metadata": {},
     "output_type": "execute_result"
    }
   ],
   "source": [
    "html_code = f'''\n",
    "<script type=\"text/javascript\" src=\"https://www.gstatic.com/charts/loader.js\"></script>\n",
    "<script type=\"text/javascript\">\n",
    "{chart_js[\"chart_div_1\"]}\n",
    "</script>\n",
    "<div id=\"chart_div_1\"></div>\n",
    "'''\n",
    "\n",
    "HTML(html_code)"
   ]
  }
 ],
 "metadata": {
  "colab": {
   "provenance": []
  },
  "environment": {
   "kernel": "opendataqna-venv",
   "name": "workbench-notebooks.m122",
   "type": "gcloud",
   "uri": "us-docker.pkg.dev/deeplearning-platform-release/gcr.io/workbench-notebooks:m122"
  },
  "kernelspec": {
   "display_name": "opendataqna-venv (Local)",
   "language": "python",
   "name": "opendataqna-venv"
  },
  "language_info": {
   "codemirror_mode": {
    "name": "ipython",
    "version": 3
   },
   "file_extension": ".py",
   "mimetype": "text/x-python",
   "name": "python",
   "nbconvert_exporter": "python",
   "pygments_lexer": "ipython3",
   "version": "3.10.14"
  }
 },
 "nbformat": 4,
 "nbformat_minor": 4
}
